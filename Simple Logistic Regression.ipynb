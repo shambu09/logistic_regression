{
 "cells": [
  {
   "cell_type": "code",
   "execution_count": 1,
   "metadata": {},
   "outputs": [],
   "source": [
    "import numpy as np\n",
    "import matplotlib.pyplot as plt"
   ]
  },
  {
   "cell_type": "code",
   "execution_count": 2,
   "metadata": {},
   "outputs": [],
   "source": [
    "N = 100\n",
    "x_zeros = np.random.multivariate_normal(mean=np.array((-1, -1)), cov=0.1*np.eye(2), size=(N//2,))\n",
    "y_zeros = np.zeros((N//2,),dtype=np.float32)"
   ]
  },
  {
   "cell_type": "code",
   "execution_count": 3,
   "metadata": {},
   "outputs": [
    {
     "name": "stdout",
     "output_type": "stream",
     "text": [
      "X0 shape : (50, 2), Y0 shape : (50,)\n"
     ]
    }
   ],
   "source": [
    "print(f\"X0 shape : {x_zeros.shape}, Y0 shape : {y_zeros.shape}\")"
   ]
  },
  {
   "cell_type": "code",
   "execution_count": 4,
   "metadata": {},
   "outputs": [],
   "source": [
    "x_ones = np.random.multivariate_normal(mean=np.array((1, 1)), cov=0.1*np.eye(2), size=(N//2,))\n",
    "y_ones = np.ones((N//2,),dtype=np.float32)"
   ]
  },
  {
   "cell_type": "code",
   "execution_count": 5,
   "metadata": {},
   "outputs": [
    {
     "name": "stdout",
     "output_type": "stream",
     "text": [
      "X1 shape : (50, 2), Y1 shape : (50,)\n"
     ]
    }
   ],
   "source": [
    "print(f\"X1 shape : {x_ones.shape}, Y1 shape : {y_ones.shape}\")"
   ]
  },
  {
   "cell_type": "code",
   "execution_count": 6,
   "metadata": {},
   "outputs": [],
   "source": [
    "#we are keeping y of x_zeros is zero and y of x_ones one."
   ]
  },
  {
   "cell_type": "code",
   "execution_count": 7,
   "metadata": {},
   "outputs": [
    {
     "name": "stdout",
     "output_type": "stream",
     "text": [
      "X shape : (100, 2)\n"
     ]
    }
   ],
   "source": [
    "X = np.concatenate((x_zeros,x_ones))\n",
    "print(f\"X shape : {X.shape}\")"
   ]
  },
  {
   "cell_type": "code",
   "execution_count": 8,
   "metadata": {},
   "outputs": [
    {
     "name": "stdout",
     "output_type": "stream",
     "text": [
      "Y shape : (100, 1)\n"
     ]
    }
   ],
   "source": [
    "Y = np.concatenate((y_zeros,y_ones)).reshape((100,1))\n",
    "print(f\"Y shape : {Y.shape}\")"
   ]
  },
  {
   "cell_type": "code",
   "execution_count": 9,
   "metadata": {
    "scrolled": true
   },
   "outputs": [
    {
     "data": {
      "image/png": "[encoded data removed]",
      "text/plain": [
       "<Figure size 432x288 with 1 Axes>"
      ]
     },
     "metadata": {
      "needs_background": "light"
     },
     "output_type": "display_data"
    }
   ],
   "source": [
    "plt.scatter(x_zeros[:,0],x_zeros[:,1],color=\"blue\")\n",
    "plt.scatter(x_ones[:,0],x_ones[:,1],color=\"red\")\n",
    "plt.show()"
   ]
  },
  {
   "cell_type": "code",
   "execution_count": 10,
   "metadata": {},
   "outputs": [],
   "source": [
    "import tensorflow as tf"
   ]
  },
  {
   "cell_type": "code",
   "execution_count": 11,
   "metadata": {},
   "outputs": [
    {
     "name": "stdout",
     "output_type": "stream",
     "text": [
      "WARNING:tensorflow:From c:\\users\\shambu\\appdata\\local\\programs\\python\\python37\\lib\\site-packages\\tensorflow\\python\\ops\\nn_impl.py:180: add_dispatch_support.<locals>.wrapper (from tensorflow.python.ops.array_ops) is deprecated and will be removed in a future version.\n",
      "Instructions for updating:\n",
      "Use tf.where in 2.0, which has the same broadcast rule as np.where\n"
     ]
    }
   ],
   "source": [
    "with tf.name_scope(\"Placeholders\"):\n",
    "    x = tf.placeholder(tf.float32,(100,2))\n",
    "    y = tf.placeholder(tf.float32,(100,1))\n",
    "\n",
    "with tf.name_scope(\"Weights\"):\n",
    "    W = tf.Variable(tf.random_normal((1,2)))\n",
    "    b = tf.Variable(tf.random_normal((1,1)))\n",
    "\n",
    "with tf.name_scope(\"Prediction\"):\n",
    "    Z = tf.transpose(tf.add(tf.matmul(W,tf.transpose(x)), b))\n",
    "\n",
    "with tf.name_scope(\"Loss\"):\n",
    "    L = tf.nn.sigmoid_cross_entropy_with_logits(labels=y, logits=Z)\n",
    "    L = tf.reduce_mean(L)\n",
    "\n",
    "with tf.name_scope(\"Optimizer\"):\n",
    "    train_op = tf.train.AdamOptimizer(0.001).minimize(L)\n",
    "\n",
    "with tf.name_scope(\"Summaries\"):\n",
    "    tf.summary.scalar(\"Loss\",L)\n",
    "    merged = tf.summary.merge_all()\n",
    "\n",
    "train_writer = tf.summary.FileWriter(r'C:\\Users\\Shambu\\Google Drive\\Deep Learning\\Notebooks', tf.get_default_graph())"
   ]
  },
  {
   "cell_type": "code",
   "execution_count": 12,
   "metadata": {},
   "outputs": [
    {
     "name": "stdout",
     "output_type": "stream",
     "text": [
      "Epoch : 0, Loss : 1.2854710817337036\n",
      "Epoch : 100, Loss : 1.1379623413085938\n",
      "Epoch : 200, Loss : 1.0025415420532227\n",
      "Epoch : 300, Loss : 0.8803645372390747\n",
      "Epoch : 400, Loss : 0.7719499468803406\n",
      "Epoch : 500, Loss : 0.6771627068519592\n",
      "Epoch : 600, Loss : 0.5952466726303101\n",
      "Epoch : 700, Loss : 0.5249888896942139\n",
      "Epoch : 800, Loss : 0.4649426341056824\n",
      "Epoch : 900, Loss : 0.41362830996513367\n",
      "Epoch : 1000, Loss : 0.3696697950363159\n",
      "Epoch : 1100, Loss : 0.33186134696006775\n",
      "Epoch : 1200, Loss : 0.29918405413627625\n",
      "Epoch : 1300, Loss : 0.2707951068878174\n",
      "Epoch : 1400, Loss : 0.2460036426782608\n",
      "Epoch : 1500, Loss : 0.22424465417861938\n",
      "Epoch : 1600, Loss : 0.2050555944442749\n",
      "Epoch : 1700, Loss : 0.1880565583705902\n",
      "Epoch : 1800, Loss : 0.17293331027030945\n",
      "Epoch : 1900, Loss : 0.15942499041557312\n",
      "Epoch : 2000, Loss : 0.14731375873088837\n"
     ]
    }
   ],
   "source": [
    "with tf.Session() as sess:\n",
    "    sess.run(tf.global_variables_initializer())\n",
    "    for i in range(2001):\n",
    "        feed_dict = {x:X,y:Y}\n",
    "        _, loss = sess.run([train_op, L], feed_dict=feed_dict)\n",
    "        summary = sess.run(merged,feed_dict=feed_dict) \n",
    "        if i%100 is 0: print(f\"Epoch : {i}, Loss : {loss}\")\n",
    "        train_writer.add_summary(summary, i)\n",
    "    w_out = sess.run(W)\n",
    "    logits = sess.run(Z, feed_dict={x:X})\n",
    "    y_hat = sess.run(tf.math.sigmoid(logits))\n",
    "    y_hat[y_hat>=0.5]  = 1\n",
    "    y_hat[y_hat<0.5] = 0\n",
    "    b_out = sess.run(b)"
   ]
  },
  {
   "cell_type": "code",
   "execution_count": 13,
   "metadata": {
    "scrolled": true
   },
   "outputs": [
    {
     "name": "stdout",
     "output_type": "stream",
     "text": [
      "Accuracy of the model : 100.0%\n"
     ]
    }
   ],
   "source": [
    "accuracy =  1- (np.sum(abs(Y - y_hat)))/Y.shape[0]\n",
    "print(f\"Accuracy of the model : {accuracy*100}%\")"
   ]
  },
  {
   "cell_type": "code",
   "execution_count": 14,
   "metadata": {},
   "outputs": [],
   "source": [
    "def decision_points(b,w1,w2):\n",
    "    max_x1 = np.max(X[:,0])\n",
    "    max_x2 = np.max(X[:,1])\n",
    "    x1 = -b/w1 - (max_x2*w2)/w1\n",
    "    x2 = -b/w2 - (max_x1*w1)/w2\n",
    "    return [max_x1,x2],[x1,max_x2]"
   ]
  },
  {
   "cell_type": "code",
   "execution_count": 15,
   "metadata": {},
   "outputs": [
    {
     "data": {
      "image/png": "[encoded data removed]",
      "text/plain": [
       "<Figure size 432x288 with 1 Axes>"
      ]
     },
     "metadata": {
      "needs_background": "light"
     },
     "output_type": "display_data"
    }
   ],
   "source": [
    "plt.scatter(x_zeros[:,0],x_zeros[:,1],color=\"blue\")\n",
    "plt.scatter(x_ones[:,0],x_ones[:,1],color=\"red\")\n",
    "w = np.squeeze(w_out)\n",
    "x,y = decision_points(b_out,w[0],w[1])\n",
    "plt.plot(x,y,color=\"black\")\n",
    "plt.show()"
   ]
  }
 ],
 "metadata": {
  "kernelspec": {
   "display_name": "Python 3",
   "language": "python",
   "name": "python3"
  },
  "language_info": {
   "codemirror_mode": {
    "name": "ipython",
    "version": 3
   },
   "file_extension": ".py",
   "mimetype": "text/x-python",
   "name": "python",
   "nbconvert_exporter": "python",
   "pygments_lexer": "ipython3",
   "version": "3.7.3"
  }
 },
 "nbformat": 4,
 "nbformat_minor": 2
}
